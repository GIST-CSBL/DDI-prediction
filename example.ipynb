{
 "cells": [
  {
   "cell_type": "code",
   "execution_count": 1,
   "metadata": {},
   "outputs": [
    {
     "name": "stderr",
     "output_type": "stream",
     "text": [
      "Using TensorFlow backend.\n",
      "/usr/local/lib/python3.6/dist-packages/tensorflow/python/framework/dtypes.py:523: FutureWarning: Passing (type, 1) or '1type' as a synonym of type is deprecated; in a future version of numpy, it will be understood as (type, (1,)) / '(1,)type'.\n",
      "  _np_qint8 = np.dtype([(\"qint8\", np.int8, 1)])\n",
      "/usr/local/lib/python3.6/dist-packages/tensorflow/python/framework/dtypes.py:524: FutureWarning: Passing (type, 1) or '1type' as a synonym of type is deprecated; in a future version of numpy, it will be understood as (type, (1,)) / '(1,)type'.\n",
      "  _np_quint8 = np.dtype([(\"quint8\", np.uint8, 1)])\n",
      "/usr/local/lib/python3.6/dist-packages/tensorflow/python/framework/dtypes.py:525: FutureWarning: Passing (type, 1) or '1type' as a synonym of type is deprecated; in a future version of numpy, it will be understood as (type, (1,)) / '(1,)type'.\n",
      "  _np_qint16 = np.dtype([(\"qint16\", np.int16, 1)])\n",
      "/usr/local/lib/python3.6/dist-packages/tensorflow/python/framework/dtypes.py:526: FutureWarning: Passing (type, 1) or '1type' as a synonym of type is deprecated; in a future version of numpy, it will be understood as (type, (1,)) / '(1,)type'.\n",
      "  _np_quint16 = np.dtype([(\"quint16\", np.uint16, 1)])\n",
      "/usr/local/lib/python3.6/dist-packages/tensorflow/python/framework/dtypes.py:527: FutureWarning: Passing (type, 1) or '1type' as a synonym of type is deprecated; in a future version of numpy, it will be understood as (type, (1,)) / '(1,)type'.\n",
      "  _np_qint32 = np.dtype([(\"qint32\", np.int32, 1)])\n",
      "/usr/local/lib/python3.6/dist-packages/tensorflow/python/framework/dtypes.py:532: FutureWarning: Passing (type, 1) or '1type' as a synonym of type is deprecated; in a future version of numpy, it will be understood as (type, (1,)) / '(1,)type'.\n",
      "  np_resource = np.dtype([(\"resource\", np.ubyte, 1)])\n"
     ]
    }
   ],
   "source": [
    "from data_load import *\n",
    "from model import DDI_model"
   ]
  },
  {
   "cell_type": "code",
   "execution_count": 2,
   "metadata": {},
   "outputs": [],
   "source": [
    "import tensorflow as tf\n",
    "from keras import backend as K\n",
    "\n",
    "import os\n",
    "os.environ['CUDA_VISIBLE_DEVICES'] = '0'\n",
    "\n",
    "config = tf.ConfigProto()\n",
    "config.gpu_options.per_process_gpu_memory_fraction = 0.3\n",
    "session = tf.Session(config=config)\n",
    "K.set_session(session)"
   ]
  },
  {
   "cell_type": "code",
   "execution_count": 3,
   "metadata": {},
   "outputs": [],
   "source": [
    "np.random.seed(3)\n",
    "tf.random.set_random_seed(3)"
   ]
  },
  {
   "cell_type": "markdown",
   "metadata": {},
   "source": [
    "### DDI model "
   ]
  },
  {
   "cell_type": "code",
   "execution_count": 4,
   "metadata": {},
   "outputs": [
    {
     "name": "stderr",
     "output_type": "stream",
     "text": [
      "/home/eykim/backup_20190214/model.py:36: UserWarning: Update your `Dense` call to the Keras 2 API: `Dense(activation=\"elu\", units=978)`\n",
      "  shared_layer.add(Dense(output_dim=self.input_drug_dim, activation=self.drug_activation))\n",
      "/home/eykim/backup_20190214/model.py:53: UserWarning: Update your `Dense` call to the Keras 2 API: `Dense(kernel_regularizer=<keras.reg..., activation=\"elu\", units=100)`\n",
      "  shared_layer2.add(Dense(output_dim=self.drug_emb_dim, kernel_regularizer=l2(0.001), activation=self.drug_activation))\n"
     ]
    }
   ],
   "source": [
    "ddi_model = DDI_model(model_save_path='/DAS_Storage3/eykim/DDI/202111/', model_name='test')"
   ]
  },
  {
   "cell_type": "code",
   "execution_count": 5,
   "metadata": {},
   "outputs": [],
   "source": [
    "ddi_model.load_model(model_load_path='/DAS_Storage3/eykim/DDI/202111/test/', model_name='model_changed_loss_weights.h5', threshold_name='model_changed_loss_opt_threshold.csv')"
   ]
  },
  {
   "cell_type": "code",
   "execution_count": 7,
   "metadata": {},
   "outputs": [],
   "source": []
  },
  {
   "cell_type": "markdown",
   "metadata": {},
   "source": [
    "#### load data"
   ]
  },
  {
   "cell_type": "code",
   "execution_count": 6,
   "metadata": {},
   "outputs": [
    {
     "name": "stderr",
     "output_type": "stream",
     "text": [
      "/usr/local/lib/python3.6/dist-packages/numpy/lib/arraysetops.py:580: FutureWarning: elementwise comparison failed; returning scalar instead, but in the future will perform elementwise comparison\n",
      "  mask |= (ar1 == a)\n"
     ]
    },
    {
     "name": "stdout",
     "output_type": "stream",
     "text": [
      "Including reverse pairs:  (16473930, 4)\n"
     ]
    }
   ],
   "source": [
    "train_data, test_x, test_y = load_data()\n",
    "ts_exp = load_exp()"
   ]
  },
  {
   "cell_type": "markdown",
   "metadata": {},
   "source": [
    "#### train model"
   ]
  },
  {
   "cell_type": "code",
   "execution_count": null,
   "metadata": {
    "scrolled": true
   },
   "outputs": [],
   "source": [
    "ddi_model.train(train_data=temp, exp_df=ts_exp, split_frac=0.1, sampling_size=1)"
   ]
  },
  {
   "cell_type": "markdown",
   "metadata": {},
   "source": [
    "#### test"
   ]
  },
  {
   "cell_type": "code",
   "execution_count": 9,
   "metadata": {
    "scrolled": true
   },
   "outputs": [
    {
     "data": {
      "image/png": "[encoded data removed]",
      "text/plain": [
       "<Figure size 432x432 with 1 Axes>"
      ]
     },
     "metadata": {
      "needs_background": "light"
     },
     "output_type": "display_data"
    },
    {
     "data": {
      "image/png": "[encoded data removed]",
      "text/plain": [
       "<Figure size 432x432 with 1 Axes>"
      ]
     },
     "metadata": {
      "needs_background": "light"
     },
     "output_type": "display_data"
    },
    {
     "name": "stdout",
     "output_type": "stream",
     "text": [
      "Test set predicted === \n",
      "AUC: 0.891, AUPR: 0.917\n"
     ]
    },
    {
     "data": {
      "text/plain": [
       "(         drug1    drug2   SE  label  predicted_label_x  predicted_label_y  \\\n",
       " 0         5035  4659568    0    1.0                  0                  0   \n",
       " 1         2162     4893    0    1.0                  0                  1   \n",
       " 2         3075     5078    0    1.0                  0                  0   \n",
       " 3         2471     3937    0    1.0                  1                  1   \n",
       " 4         3016     4819    0    1.0                  0                  0   \n",
       " 5         4614     4635    0    1.0                  1                  1   \n",
       " 6         3911    62924    0    1.0                  1                  1   \n",
       " 7         4547    60835    0    1.0                  1                  1   \n",
       " 8         2471   123620    0    1.0                  0                  0   \n",
       " 9         3016     3345    0    1.0                  1                  1   \n",
       " 10        3016     4170    0    1.0                  0                  0   \n",
       " 11        2173     5651    0    1.0                  1                  1   \n",
       " 12        3032     3345    0    1.0                  1                  1   \n",
       " 13        2771     3148    0    1.0                  0                  0   \n",
       " 14        3348     3746    0    1.0                  1                  1   \n",
       " 15      104865  3468412    0    1.0                  1                  1   \n",
       " 16        3062     3255    0    1.0                  1                  1   \n",
       " 17        5005    60835    0    1.0                  1                  1   \n",
       " 18        3016   170361    0    1.0                  1                  1   \n",
       " 19        3962  5487301    0    1.0                  1                  1   \n",
       " 20        2171     2173    0    1.0                  1                  1   \n",
       " 21        4635    60147    0    1.0                  1                  1   \n",
       " 22        3325     5656    0    1.0                  1                  1   \n",
       " 23        4034     4510    0    1.0                  1                  1   \n",
       " 24        5487     5512    0    1.0                  1                  1   \n",
       " 25        3161  5381226    0    1.0                  0                  0   \n",
       " 26        5002    62924    0    1.0                  1                  1   \n",
       " 27        4920     5376    0    1.0                  1                  1   \n",
       " 28        2585     5426    0    1.0                  1                  1   \n",
       " 29        4946    28112    0    1.0                  1                  1   \n",
       " ...        ...      ...  ...    ...                ...                ...   \n",
       " 915130   38904  6918453  962    0.0                  0                  0   \n",
       " 915131    2895   216239  962    0.0                  0                  0   \n",
       " 915132    2578     5525  962    0.0                  0                  0   \n",
       " 915133    3510     3672  962    0.0                  1                  1   \n",
       " 915134    2662    77992  962    0.0                  0                  0   \n",
       " 915135    4212     5978  962    0.0                  1                  1   \n",
       " 915136    3032     5656  962    0.0                  1                  1   \n",
       " 915137    4253   130881  962    0.0                  0                  0   \n",
       " 915138    3954  6435110  962    0.0                  0                  0   \n",
       " 915139    2802  5487301  962    0.0                  0                  0   \n",
       " 915140    4510     5035  962    0.0                  1                  1   \n",
       " 915141   59708   504578  962    0.0                  0                  0   \n",
       " 915142     772     1065  962    0.0                  0                  1   \n",
       " 915143    2771     3114  962    0.0                  0                  0   \n",
       " 915144    2895  3085017  962    0.0                  0                  0   \n",
       " 915145    4171     5453  962    0.0                  0                  0   \n",
       " 915146    2771     3494  962    0.0                  0                  0   \n",
       " 915147     772  5353980  962    0.0                  0                  0   \n",
       " 915148    4900  5353980  962    0.0                  1                  1   \n",
       " 915149    4927    72938  962    0.0                  0                  0   \n",
       " 915150     772  5282226  962    0.0                  0                  0   \n",
       " 915151     772     2232  962    0.0                  0                  0   \n",
       " 915152    2771     3016  962    0.0                  1                  1   \n",
       " 915153    2585     3962  962    0.0                  1                  1   \n",
       " 915154    3386     4599  962    0.0                  1                  1   \n",
       " 915155    2771     4409  962    0.0                  0                  1   \n",
       " 915156    3386     5453  962    0.0                  0                  0   \n",
       " 915157    4158     5078  962    0.0                  0                  0   \n",
       " 915158    2585     4473  962    0.0                  0                  0   \n",
       " 915159    5514    65027  962    0.0                  0                  0   \n",
       " \n",
       "         predicted_score_x  predicted_score_y  mean_predicted_score  \\\n",
       " 0                2.739095           3.029680              2.884387   \n",
       " 1                0.982664           0.872869              0.927767   \n",
       " 2                1.145674           1.204774              1.175224   \n",
       " 3                0.519213           0.516569              0.517891   \n",
       " 4                1.763569           1.598928              1.681248   \n",
       " 5                0.523959           0.527115              0.525537   \n",
       " 6                0.534953           0.518250              0.526601   \n",
       " 7                0.736113           0.587354              0.661734   \n",
       " 8                1.065918           1.118685              1.092302   \n",
       " 9                0.516811           0.520272              0.518541   \n",
       " 10               1.991846           2.117361              2.054604   \n",
       " 11               0.511266           0.518996              0.515131   \n",
       " 12               0.524677           0.520108              0.522393   \n",
       " 13               1.505985           1.669532              1.587759   \n",
       " 14               0.511914           0.518502              0.515208   \n",
       " 15               0.525254           0.511656              0.518455   \n",
       " 16               0.619852           0.597308              0.608580   \n",
       " 17               0.664998           0.592730              0.628864   \n",
       " 18               0.475321           0.480160              0.477741   \n",
       " 19               0.703502           0.596019              0.649761   \n",
       " 20               0.520282           0.501009              0.510645   \n",
       " 21               0.515677           0.515067              0.515372   \n",
       " 22               0.515757           0.518827              0.517292   \n",
       " 23               0.510668           0.514735              0.512701   \n",
       " 24               0.517415           0.521873              0.519644   \n",
       " 25               2.439758           2.049734              2.244746   \n",
       " 26               0.528430           0.528509              0.528470   \n",
       " 27               0.618500           0.598428              0.608464   \n",
       " 28               0.760761           0.716862              0.738811   \n",
       " 29               0.503946           0.504442              0.504194   \n",
       " ...                   ...                ...                   ...   \n",
       " 915130           2.276649           2.542993              2.409822   \n",
       " 915131           1.424271           1.492396              1.458333   \n",
       " 915132           1.873461           1.978710              1.926086   \n",
       " 915133           0.299857           0.301303              0.300580   \n",
       " 915134           2.076695           2.256622              2.166659   \n",
       " 915135           0.297445           0.295959              0.296702   \n",
       " 915136           0.278505           0.279089              0.278797   \n",
       " 915137           1.092986           1.029874              1.061430   \n",
       " 915138           3.243938           2.603581              2.923760   \n",
       " 915139           1.300542           1.405138              1.352840   \n",
       " 915140           0.348425           0.474666              0.411546   \n",
       " 915141           1.472557           1.840635              1.656596   \n",
       " 915142           1.081045           0.848350              0.964697   \n",
       " 915143           2.060866           1.919423              1.990144   \n",
       " 915144           1.210474           1.330343              1.270409   \n",
       " 915145           2.310791           2.489672              2.400232   \n",
       " 915146           1.773767           1.753665              1.763716   \n",
       " 915147           1.266628           1.281485              1.274056   \n",
       " 915148           0.284696           0.291819              0.288258   \n",
       " 915149           1.986296           2.003563              1.994929   \n",
       " 915150           1.166905           1.392574              1.279739   \n",
       " 915151           1.366214           1.255679              1.310947   \n",
       " 915152           0.282107           0.282144              0.282126   \n",
       " 915153           0.283221           0.283922              0.283572   \n",
       " 915154           0.297508           0.671062              0.484285   \n",
       " 915155           1.082901           0.789433              0.936167   \n",
       " 915156           2.956247           2.229828              2.593038   \n",
       " 915157           1.049211           1.046308              1.047760   \n",
       " 915158           1.589707           1.496106              1.542907   \n",
       " 915159           2.296215           2.130579              2.213397   \n",
       " \n",
       "         final_predicted_label       gap  \n",
       " 0                           0  1.914411  \n",
       " 1                           1  0.042210  \n",
       " 2                           0  0.205247  \n",
       " 3                           1  0.452085  \n",
       " 4                           0  0.711272  \n",
       " 5                           1  0.444440  \n",
       " 6                           1  0.443375  \n",
       " 7                           1  0.308243  \n",
       " 8                           0  0.122325  \n",
       " 9                           1  0.451435  \n",
       " 10                          0  1.084627  \n",
       " 11                          1  0.454845  \n",
       " 12                          1  0.447584  \n",
       " 13                          0  0.617782  \n",
       " 14                          1  0.454769  \n",
       " 15                          1  0.451522  \n",
       " 16                          1  0.361397  \n",
       " 17                          1  0.341113  \n",
       " 18                          1  0.492236  \n",
       " 19                          1  0.320216  \n",
       " 20                          1  0.459331  \n",
       " 21                          1  0.454605  \n",
       " 22                          1  0.452685  \n",
       " 23                          1  0.457275  \n",
       " 24                          1  0.450333  \n",
       " 25                          0  1.274769  \n",
       " 26                          1  0.441507  \n",
       " 27                          1  0.361512  \n",
       " 28                          1  0.231165  \n",
       " 29                          1  0.465783  \n",
       " ...                       ...       ...  \n",
       " 915130                      0  1.476875  \n",
       " 915131                      0  0.525387  \n",
       " 915132                      0  0.993139  \n",
       " 915133                      1  0.632367  \n",
       " 915134                      0  1.233712  \n",
       " 915135                      1  0.636245  \n",
       " 915136                      1  0.654150  \n",
       " 915137                      0  0.128484  \n",
       " 915138                      0  1.990813  \n",
       " 915139                      0  0.419894  \n",
       " 915140                      1  0.521401  \n",
       " 915141                      0  0.723650  \n",
       " 915142                      0  0.031751  \n",
       " 915143                      0  1.057198  \n",
       " 915144                      0  0.337462  \n",
       " 915145                      0  1.467285  \n",
       " 915146                      0  0.830769  \n",
       " 915147                      0  0.341110  \n",
       " 915148                      1  0.644689  \n",
       " 915149                      0  1.061983  \n",
       " 915150                      0  0.346793  \n",
       " 915151                      0  0.378000  \n",
       " 915152                      1  0.650821  \n",
       " 915153                      1  0.649375  \n",
       " 915154                      1  0.448662  \n",
       " 915155                      0  0.003220  \n",
       " 915156                      0  1.660091  \n",
       " 915157                      0  0.114813  \n",
       " 915158                      0  0.609960  \n",
       " 915159                      0  1.280450  \n",
       " \n",
       " [915160 rows x 11 columns],\n",
       "    Side effect no.        SN        SP        PR       AUC      AUPR\n",
       " 0                0  0.794749  0.837061  0.830424  0.894773  0.919423\n",
       " 0                1  0.827325  0.816280  0.821476  0.893117  0.921694\n",
       " 0                2  0.824561  0.809689  0.810345  0.891082  0.921490\n",
       " 0                3  0.756410  0.777027  0.781457  0.843858  0.872127\n",
       " 0                4  0.847892  0.803625  0.812410  0.896439  0.920723\n",
       " 0                5  0.693785  0.853488  0.829730  0.891327  0.917818\n",
       " 0                6  0.904255  0.786517  0.817308  0.907961  0.925829\n",
       " 0                7  0.809269  0.808333  0.797891  0.896384  0.924168\n",
       " 0                8  0.865410  0.799731  0.811869  0.902623  0.922726\n",
       " 0                9  0.821622  0.861538  0.849162  0.918115  0.933785\n",
       " 0               10  0.833333  0.815217  0.824742  0.891078  0.913815\n",
       " 0               11  0.793706  0.866221  0.850187  0.897689  0.923552\n",
       " 0               12  0.664179  0.937008  0.917526  0.929957  0.941978\n",
       " 0               13  0.739454  0.792771  0.776042  0.858172  0.898580\n",
       " 0               14  0.783871  0.834951  0.826531  0.881501  0.908504\n",
       " 0               15  0.873239  0.801370  0.810458  0.892630  0.919369\n",
       " 0               16  0.711538  0.780000  0.770833  0.857885  0.889243\n",
       " 0               17  0.864929  0.873085  0.862884  0.938326  0.954077\n",
       " 0               18  0.774939  0.847619  0.832680  0.899028  0.925708\n",
       " 0               19  0.883929  0.867925  0.876106  0.926634  0.937612\n",
       " 0               20  0.827586  0.864198  0.845070  0.927160  0.948051\n",
       " 0               21  0.830938  0.834143  0.835513  0.906638  0.928304\n",
       " 0               22  0.887324  0.811594  0.828947  0.895285  0.916125\n",
       " 0               23  0.686567  0.873239  0.836364  0.878074  0.909888\n",
       " 0               24  0.782540  0.768352  0.776378  0.852697  0.890220\n",
       " 0               25  0.781536  0.846760  0.838246  0.889977  0.923048\n",
       " 0               26  0.766234  0.781250  0.771242  0.865747  0.899149\n",
       " 0               27  0.731061  0.800000  0.778226  0.858113  0.895361\n",
       " 0               28  0.642857  0.933333  0.900000  0.889947  0.911590\n",
       " 0               29  0.790698  0.841410  0.825243  0.886897  0.917665\n",
       " ..             ...       ...       ...       ...       ...       ...\n",
       " 0              933  0.828010  0.807980  0.814010  0.884845  0.915166\n",
       " 0              934  0.953125  0.754098  0.802632  0.912654  0.924940\n",
       " 0              935  0.817266  0.841727  0.837758  0.907738  0.930100\n",
       " 0              936  0.883243  0.808696  0.822759  0.912949  0.933295\n",
       " 0              937  0.776557  0.866426  0.851406  0.909880  0.928737\n",
       " 0              938  0.826425  0.849558  0.842801  0.913396  0.933740\n",
       " 0              939  0.813449  0.774049  0.787815  0.871464  0.899211\n",
       " 0              940  0.857143  0.811594  0.816254  0.893227  0.921640\n",
       " 0              941  0.822551  0.836431  0.834897  0.902470  0.928485\n",
       " 0              942  0.707143  0.853571  0.828452  0.879770  0.910512\n",
       " 0              943  0.854369  0.718182  0.739496  0.859665  0.888967\n",
       " 0              944  0.812270  0.811966  0.811275  0.889296  0.917774\n",
       " 0              945  0.845833  0.775424  0.792969  0.895056  0.915734\n",
       " 0              946  0.758333  0.793651  0.777778  0.868651  0.899997\n",
       " 0              947  0.866667  0.808219  0.822785  0.901735  0.929251\n",
       " 0              948  0.757121  0.855639  0.840266  0.901380  0.922861\n",
       " 0              949  0.851064  0.755102  0.769231  0.867130  0.900504\n",
       " 0              950  0.846639  0.849687  0.848421  0.914037  0.933157\n",
       " 0              951  0.987342  0.575758  0.735849  0.904680  0.911823\n",
       " 0              952  0.796296  0.827664  0.819048  0.898694  0.925538\n",
       " 0              953  0.843829  0.828283  0.831266  0.910379  0.933062\n",
       " 0              954  0.780684  0.825651  0.816842  0.890175  0.916903\n",
       " 0              955  0.866029  0.779487  0.808036  0.894860  0.921257\n",
       " 0              956  0.716667  0.745455  0.754386  0.842121  0.870935\n",
       " 0              957  0.868790  0.870394  0.869898  0.933664  0.952220\n",
       " 0              958  0.893130  0.758364  0.782609  0.871052  0.910488\n",
       " 0              959  0.819149  0.890000  0.875000  0.890745  0.912523\n",
       " 0              960  0.774510  0.843594  0.834507  0.894365  0.920753\n",
       " 0              961  0.872340  0.680000  0.719298  0.852340  0.897049\n",
       " 0              962  0.911111  0.641509  0.683333  0.821803  0.880003\n",
       " \n",
       " [963 rows x 6 columns])"
      ]
     },
     "execution_count": 9,
     "metadata": {},
     "output_type": "execute_result"
    }
   ],
   "source": [
    "prediced_label, ddi_model.test(test_x=test_x, test_y=test_y, exp_df=ts_exp)"
   ]
  }
 ],
 "metadata": {
  "kernelspec": {
   "display_name": "Python 3",
   "language": "python",
   "name": "python3"
  },
  "language_info": {
   "codemirror_mode": {
    "name": "ipython",
    "version": 3
   },
   "file_extension": ".py",
   "mimetype": "text/x-python",
   "name": "python",
   "nbconvert_exporter": "python",
   "pygments_lexer": "ipython3",
   "version": "3.6.8"
  }
 },
 "nbformat": 4,
 "nbformat_minor": 2
}
